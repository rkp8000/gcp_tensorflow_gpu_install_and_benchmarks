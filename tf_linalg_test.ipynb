{
 "cells": [
  {
   "cell_type": "markdown",
   "metadata": {},
   "source": [
    "# Basic linear algebra operations using GPU through TensorFlow"
   ]
  },
  {
   "cell_type": "code",
   "execution_count": 1,
   "metadata": {},
   "outputs": [],
   "source": [
    "%reset -f\n",
    "import numpy as np\n",
    "import tensorflow as tf\n",
    "from tensorflow.python.client import device_lib\n",
    "from time import time"
   ]
  },
  {
   "cell_type": "markdown",
   "metadata": {},
   "source": [
    "## List GPU devices"
   ]
  },
  {
   "cell_type": "code",
   "execution_count": 2,
   "metadata": {},
   "outputs": [
    {
     "name": "stdout",
     "output_type": "stream",
     "text": [
      "GPU DEVICES:\n",
      "  ['/device:GPU:0']\n"
     ]
    }
   ],
   "source": [
    "gpus = [x.name for x in device_lib.list_local_devices() if x.device_type == 'GPU']\n",
    "print('GPU DEVICES:\\n  {}'.format(gpus))"
   ]
  },
  {
   "cell_type": "markdown",
   "metadata": {},
   "source": [
    "# Run benchmarks\n",
    "Comparing 1 NVIDIA Tesla K80 12GB GPU vs. 8 vCPUs with 30GB RAM."
   ]
  },
  {
   "cell_type": "markdown",
   "metadata": {},
   "source": [
    "## Array addition"
   ]
  },
  {
   "cell_type": "code",
   "execution_count": 3,
   "metadata": {},
   "outputs": [],
   "source": [
    "ITERS = 30\n",
    "M = 10000\n",
    "N = 10000"
   ]
  },
  {
   "cell_type": "markdown",
   "metadata": {},
   "source": [
    "### Using GPU"
   ]
  },
  {
   "cell_type": "code",
   "execution_count": 4,
   "metadata": {},
   "outputs": [
    {
     "name": "stdout",
     "output_type": "stream",
     "text": [
      "GPU array addition took 0.000862272580464681 seconds per iteration.\n"
     ]
    }
   ],
   "source": [
    "np.random.seed(0)\n",
    "\n",
    "with tf.device('/device:GPU:0'):\n",
    "    \n",
    "    a = tf.constant(np.random.rand(M, N))\n",
    "    b = tf.constant(np.random.rand(M, N))\n",
    "    \n",
    "    tic = time()\n",
    "    for ii in range(ITERS):\n",
    "        c = tf.add(a, b)\n",
    "    toc = time()\n",
    "    \n",
    "elapsed = toc - tic\n",
    "\n",
    "print('GPU array addition took {} seconds per iteration.'.format(elapsed/ITERS))"
   ]
  },
  {
   "cell_type": "markdown",
   "metadata": {},
   "source": [
    "### Using CPU"
   ]
  },
  {
   "cell_type": "code",
   "execution_count": 5,
   "metadata": {},
   "outputs": [
    {
     "name": "stdout",
     "output_type": "stream",
     "text": [
      "CPU array addition took 0.5009345054626465 seconds per iteration.\n"
     ]
    }
   ],
   "source": [
    "np.random.seed(0)\n",
    "\n",
    "a = np.random.rand(M, N)\n",
    "b = np.random.rand(M, N)\n",
    "\n",
    "tic = time()\n",
    "for ii in range(ITERS):\n",
    "    c = a + b\n",
    "toc = time()\n",
    "\n",
    "elapsed = toc - tic\n",
    "\n",
    "print('CPU array addition took {} seconds per iteration.'.format(elapsed/ITERS))"
   ]
  },
  {
   "cell_type": "markdown",
   "metadata": {},
   "source": [
    "## Matrix multiplication"
   ]
  },
  {
   "cell_type": "code",
   "execution_count": 6,
   "metadata": {},
   "outputs": [],
   "source": [
    "ITERS = 30\n",
    "M = 2000\n",
    "K = 3000\n",
    "N = 4000"
   ]
  },
  {
   "cell_type": "markdown",
   "metadata": {},
   "source": [
    "### Using GPU"
   ]
  },
  {
   "cell_type": "code",
   "execution_count": 7,
   "metadata": {},
   "outputs": [
    {
     "name": "stdout",
     "output_type": "stream",
     "text": [
      "TF-GPU dense matrix multiplication took 0.0014510075251261392 seconds per iteration.\n"
     ]
    }
   ],
   "source": [
    "with tf.device('/device:GPU:0'):\n",
    "    \n",
    "    np.random.seed(0)\n",
    "\n",
    "    a = tf.constant(np.random.rand(M, K))\n",
    "    b = tf.constant(np.random.rand(K, N))\n",
    "\n",
    "    tic = time()\n",
    "    for ii in range(ITERS):\n",
    "        c = tf.matmul(a, b)\n",
    "    toc = time()\n",
    "    \n",
    "elapsed = toc - tic\n",
    "    \n",
    "print('TF-GPU dense matrix multiplication took {} seconds per iteration.'.format(elapsed/ITERS))"
   ]
  },
  {
   "cell_type": "markdown",
   "metadata": {},
   "source": [
    "### Using CPU"
   ]
  },
  {
   "cell_type": "code",
   "execution_count": 8,
   "metadata": {},
   "outputs": [
    {
     "name": "stdout",
     "output_type": "stream",
     "text": [
      "Numpy dense matrix multiplication took 0.4294951359430949 seconds per iteration.\n"
     ]
    }
   ],
   "source": [
    "np.random.seed(0)\n",
    "\n",
    "a = np.random.rand(M, K)\n",
    "b = np.random.rand(K, N)\n",
    "\n",
    "tic = time()\n",
    "for ii in range(ITERS):\n",
    "    c = np.dot(a, b)\n",
    "toc = time()\n",
    "\n",
    "elapsed = toc - tic\n",
    "\n",
    "print('Numpy dense matrix multiplication took {} seconds per iteration.'.format(elapsed/ITERS))"
   ]
  },
  {
   "cell_type": "markdown",
   "metadata": {},
   "source": [
    "## Sparse matrix by dense vector (SPMV) multiplication"
   ]
  },
  {
   "cell_type": "code",
   "execution_count": 9,
   "metadata": {},
   "outputs": [],
   "source": [
    "from scipy.sparse import csr_matrix\n",
    "\n",
    "ITERS = 30\n",
    "N = 20000\n",
    "P = 0.1"
   ]
  },
  {
   "cell_type": "markdown",
   "metadata": {},
   "source": [
    "### Using GPU"
   ]
  },
  {
   "cell_type": "code",
   "execution_count": 10,
   "metadata": {},
   "outputs": [
    {
     "name": "stdout",
     "output_type": "stream",
     "text": [
      "GPU spmv product took 0.0011811971664428711 seconds per iteration.\n"
     ]
    }
   ],
   "source": [
    "with tf.device('/device:GPU:0'):\n",
    "    \n",
    "    np.random.seed(0)\n",
    "\n",
    "    a_dense = np.random.rand(N, N)\n",
    "    a_dense[a_dense > P] = 0\n",
    "    \n",
    "    indices = np.transpose(a_dense.nonzero())\n",
    "    values = a_dense[indices[:, 0], indices[:, 1]]\n",
    "    dense_shape = a_dense.shape\n",
    "    \n",
    "    a_sparse = tf.SparseTensor(indices, values, dense_shape)\n",
    "\n",
    "    b = tf.constant(np.random.rand(N, 1))\n",
    "    \n",
    "    tic = time()\n",
    "    for ii in range(ITERS):\n",
    "        c = tf.sparse_tensor_dense_matmul(a_sparse, b)\n",
    "    toc = time()\n",
    "    \n",
    "elapsed = toc - tic\n",
    "\n",
    "print('GPU spmv product took {} seconds per iteration.'.format(elapsed/ITERS))"
   ]
  },
  {
   "cell_type": "markdown",
   "metadata": {},
   "source": [
    "### Using CPU"
   ]
  },
  {
   "cell_type": "code",
   "execution_count": 11,
   "metadata": {},
   "outputs": [
    {
     "name": "stdout",
     "output_type": "stream",
     "text": [
      "Scipy spmv product took 0.06693172454833984 seconds per iteration.\n"
     ]
    }
   ],
   "source": [
    "np.random.seed(0)\n",
    "\n",
    "a_dense = np.random.rand(N, N)\n",
    "a_dense[a_dense > P] = 0\n",
    "a_sparse = csr_matrix(a_dense)\n",
    "\n",
    "b = np.random.rand(N)\n",
    "\n",
    "tic = time()\n",
    "for ii in range(ITERS):\n",
    "    c = a_sparse.dot(b)\n",
    "toc = time()\n",
    "\n",
    "elapsed = toc - tic\n",
    "\n",
    "print('Scipy spmv product took {} seconds per iteration.'.format(elapsed/ITERS))"
   ]
  }
 ],
 "metadata": {
  "kernelspec": {
   "display_name": "Python 3",
   "language": "python",
   "name": "python3"
  },
  "language_info": {
   "codemirror_mode": {
    "name": "ipython",
    "version": 3
   },
   "file_extension": ".py",
   "mimetype": "text/x-python",
   "name": "python",
   "nbconvert_exporter": "python",
   "pygments_lexer": "ipython3",
   "version": "3.5.2"
  },
  "widgets": {
   "state": {},
   "version": "1.1.2"
  }
 },
 "nbformat": 4,
 "nbformat_minor": 2
}
