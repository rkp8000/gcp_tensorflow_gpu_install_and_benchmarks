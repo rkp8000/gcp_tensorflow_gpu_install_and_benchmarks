{
 "cells": [
  {
   "cell_type": "markdown",
   "metadata": {},
   "source": [
    "# Basic linear algebra operations using GPU through TensorFlow"
   ]
  },
  {
   "cell_type": "code",
   "execution_count": 1,
   "metadata": {},
   "outputs": [],
   "source": [
    "%reset -f\n",
    "import numpy as np\n",
    "import tensorflow as tf\n",
    "from tensorflow.python.client import device_lib\n",
    "from time import time"
   ]
  },
  {
   "cell_type": "markdown",
   "metadata": {},
   "source": [
    "## List of GPU devices"
   ]
  },
  {
   "cell_type": "code",
   "execution_count": 2,
   "metadata": {},
   "outputs": [
    {
     "name": "stdout",
     "output_type": "stream",
     "text": [
      "GPU DEVICES:\n",
      "  ['/device:GPU:0']\n"
     ]
    }
   ],
   "source": [
    "gpus = [x.name for x in device_lib.list_local_devices() if x.device_type == 'GPU']\n",
    "print('GPU DEVICES:\\n  {}'.format(gpus))"
   ]
  },
  {
   "cell_type": "markdown",
   "metadata": {},
   "source": [
    "## Run benchmarks"
   ]
  },
  {
   "cell_type": "code",
   "execution_count": 3,
   "metadata": {},
   "outputs": [],
   "source": [
    "ITERS = 30\n",
    "M = 2000\n",
    "K = 3000\n",
    "N = 4000"
   ]
  },
  {
   "cell_type": "markdown",
   "metadata": {},
   "source": [
    "## TF-GPU matrix multiplication"
   ]
  },
  {
   "cell_type": "code",
   "execution_count": 4,
   "metadata": {},
   "outputs": [
    {
     "name": "stdout",
     "output_type": "stream",
     "text": [
      "TF-GPU dense matrix multiplication took 0.000953372319539388 seconds per iteration.\n"
     ]
    }
   ],
   "source": [
    "with tf.device('/device:GPU:0'):\n",
    "    \n",
    "    np.random.seed(0)\n",
    "\n",
    "    a = tf.constant(np.random.rand(M, K))\n",
    "    b = tf.constant(np.random.rand(K, N))\n",
    "\n",
    "    tic = time()\n",
    "    for ii in range(ITERS):\n",
    "        c = tf.matmul(a, b)\n",
    "    toc = time()\n",
    "    \n",
    "elapsed = toc - tic\n",
    "    \n",
    "print('TF-GPU dense matrix multiplication took {} seconds per iteration.'.format(elapsed/ITERS))"
   ]
  },
  {
   "cell_type": "markdown",
   "metadata": {},
   "source": [
    "## Numpy matrix multiplication"
   ]
  },
  {
   "cell_type": "code",
   "execution_count": 5,
   "metadata": {},
   "outputs": [
    {
     "name": "stdout",
     "output_type": "stream",
     "text": [
      "Numpy dense matrix multiplication took 0.430174446105957 seconds per iteration.\n"
     ]
    }
   ],
   "source": [
    "np.random.seed(0)\n",
    "\n",
    "a = np.random.rand(M, K)\n",
    "b = np.random.rand(K, N)\n",
    "\n",
    "tic = time()\n",
    "for ii in range(ITERS):\n",
    "    c = np.dot(a, b)\n",
    "toc = time()\n",
    "\n",
    "elapsed = toc - tic\n",
    "\n",
    "print('Numpy dense matrix multiplication took {} seconds per iteration.'.format(elapsed/ITERS))"
   ]
  }
 ],
 "metadata": {
  "kernelspec": {
   "display_name": "Python 3",
   "language": "python",
   "name": "python3"
  },
  "language_info": {
   "codemirror_mode": {
    "name": "ipython",
    "version": 3
   },
   "file_extension": ".py",
   "mimetype": "text/x-python",
   "name": "python",
   "nbconvert_exporter": "python",
   "pygments_lexer": "ipython3",
   "version": "3.5.2"
  },
  "widgets": {
   "state": {},
   "version": "1.1.2"
  }
 },
 "nbformat": 4,
 "nbformat_minor": 2
}
